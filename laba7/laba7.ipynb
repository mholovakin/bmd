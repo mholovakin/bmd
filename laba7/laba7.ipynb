{
 "cells": [
  {
   "cell_type": "markdown",
   "metadata": {},
   "source": [
    "<h3>1. Обрати реальні дані з kaggle або сгенерувати випадкові дані. Дані мають відповідати вимогам викладеним вище.</h3>"
   ]
  },
  {
   "cell_type": "code",
   "execution_count": 3,
   "metadata": {},
   "outputs": [],
   "source": [
    "import pandas as pd\n",
    "import seaborn as sns\n",
    "import numpy as np\n",
    "from math import sqrt"
   ]
  },
  {
   "cell_type": "code",
   "execution_count": 4,
   "metadata": {},
   "outputs": [
    {
     "data": {
      "text/html": [
       "<div>\n",
       "<style scoped>\n",
       "    .dataframe tbody tr th:only-of-type {\n",
       "        vertical-align: middle;\n",
       "    }\n",
       "\n",
       "    .dataframe tbody tr th {\n",
       "        vertical-align: top;\n",
       "    }\n",
       "\n",
       "    .dataframe thead th {\n",
       "        text-align: right;\n",
       "    }\n",
       "</style>\n",
       "<table border=\"1\" class=\"dataframe\">\n",
       "  <thead>\n",
       "    <tr style=\"text-align: right;\">\n",
       "      <th></th>\n",
       "      <th>6-А Бег (сек.)</th>\n",
       "      <th>6-Б Бег (сек.)</th>\n",
       "    </tr>\n",
       "  </thead>\n",
       "  <tbody>\n",
       "    <tr>\n",
       "      <th>0</th>\n",
       "      <td>33</td>\n",
       "      <td>28</td>\n",
       "    </tr>\n",
       "    <tr>\n",
       "      <th>1</th>\n",
       "      <td>45</td>\n",
       "      <td>34</td>\n",
       "    </tr>\n",
       "    <tr>\n",
       "      <th>2</th>\n",
       "      <td>43</td>\n",
       "      <td>25</td>\n",
       "    </tr>\n",
       "    <tr>\n",
       "      <th>3</th>\n",
       "      <td>29</td>\n",
       "      <td>43</td>\n",
       "    </tr>\n",
       "    <tr>\n",
       "      <th>4</th>\n",
       "      <td>50</td>\n",
       "      <td>56</td>\n",
       "    </tr>\n",
       "    <tr>\n",
       "      <th>5</th>\n",
       "      <td>41</td>\n",
       "      <td>38</td>\n",
       "    </tr>\n",
       "    <tr>\n",
       "      <th>6</th>\n",
       "      <td>39</td>\n",
       "      <td>42</td>\n",
       "    </tr>\n",
       "  </tbody>\n",
       "</table>\n",
       "</div>"
      ],
      "text/plain": [
       "   6-А Бег (сек.)  6-Б Бег (сек.)\n",
       "0              33              28\n",
       "1              45              34\n",
       "2              43              25\n",
       "3              29              43\n",
       "4              50              56\n",
       "5              41              38\n",
       "6              39              42"
      ]
     },
     "execution_count": 4,
     "metadata": {},
     "output_type": "execute_result"
    }
   ],
   "source": [
    "data = pd.DataFrame({\n",
    "    \"6-А Бег (сек.)\":[33, 45, 43, 29, 50, 41, 39],\n",
    "    \"6-Б Бег (сек.)\":[28, 34, 25, 43, 56, 38, 42]\n",
    "})\n",
    "\n",
    "n = data.shape[0]\n",
    "\n",
    "data"
   ]
  },
  {
   "cell_type": "markdown",
   "metadata": {},
   "source": [
    "<h3>2. Побудувати графік, що відображає розкид даних в групах. Приклад:</h3>"
   ]
  },
  {
   "cell_type": "code",
   "execution_count": 5,
   "metadata": {},
   "outputs": [
    {
     "data": {
      "text/plain": [
       "<matplotlib.axes._subplots.AxesSubplot at 0x264ba03e198>"
      ]
     },
     "execution_count": 5,
     "metadata": {},
     "output_type": "execute_result"
    },
    {
     "data": {
      "image/png": "[encoded data removed]",
      "text/plain": [
       "<Figure size 432x288 with 1 Axes>"
      ]
     },
     "metadata": {
      "needs_background": "light"
     },
     "output_type": "display_data"
    }
   ],
   "source": [
    "sns.boxplot(data=data, palette='rainbow')"
   ]
  },
  {
   "cell_type": "markdown",
   "metadata": {},
   "source": [
    "<h3>3. Написати функції:\n",
    "\n",
    "для оцінки вімінностей дисперсій між групами за критерієм Лівеня. Функція має повертати значення тесту та результат оцінки рівності дисперсій (significant або not significant).</h3>"
   ]
  },
  {
   "cell_type": "code",
   "execution_count": 6,
   "metadata": {},
   "outputs": [],
   "source": [
    "def liven(data):\n",
    "    Md1 = sum(data.iloc[:, 0])/n\n",
    "    Md2 = sum(data.iloc[:, 1])/n\n",
    "    sum_1 = 0\n",
    "    sum_2 = 0\n",
    "    for i in range(n):\n",
    "        sum_1 += (data.iloc[i, 0] - Md1)**2\n",
    "    for i in range(n):\n",
    "        sum_2 += (data.iloc[i, 1] - Md2)**2\n",
    "    sigma_1 = sqrt(sum_1/n)\n",
    "    sigma_2 = sqrt(sum_2/n)\n",
    "    \n",
    "    if sigma_1 > sigma_2:\n",
    "        F = sigma_1**2/sigma_2**2\n",
    "    else:\n",
    "        F = sigma_2**2/sigma_1**2\n",
    "    df = n-1\n",
    "    \n",
    "    c = pd.read_excel(\"Таблиця критичних значень для критерію Лівеня.xlsx\").iloc[df, df]\n",
    "    \n",
    "    znach = \"\"\n",
    "    if F > c:\n",
    "        print(\"Not significant: \"+ str(F)+\"(дано)\" + \" > \"+ str(c)+\"(табличне)\")\n",
    "        znach = \"not significant\"\n",
    "    else:\n",
    "        print(\"Significant: \"+ str(F)+\"(дано)\" + \" < \"+ str(c)+\"(табличне)\")\n",
    "        znach = \"significant\"\n",
    "    \n",
    "    ans = [F, znach]\n",
    "    return ans"
   ]
  },
  {
   "cell_type": "markdown",
   "metadata": {},
   "source": [
    "<h3>4. для визначення відмінності між групами за критерієм Стьюдента в залежності від рівності/відмінності дисперсій. Функція має повертати значення критерію Стьюдента,значення ступеня свободи та результат оцінки значимості зв'зку (significant або not significant).</h3>"
   ]
  },
  {
   "cell_type": "code",
   "execution_count": 7,
   "metadata": {},
   "outputs": [],
   "source": [
    "def t_crit(data):\n",
    "    Md1 = sum(data.iloc[:, 0])/n\n",
    "    Md2 = sum(data.iloc[:, 1])/n\n",
    "    sum_1 = 0\n",
    "    sum_2 = 0\n",
    "    for i in range(n):\n",
    "        sum_1 += (data.iloc[i, 0] - Md1)**2\n",
    "    for i in range(n):\n",
    "        sum_2 += (data.iloc[i, 1] - Md2)**2\n",
    "    sigma_1 = sqrt(sum_1/n)\n",
    "    sigma_2 = sqrt(sum_2/n)\n",
    "    \n",
    "    \n",
    "    if sigma_1 == sigma_2:\n",
    "        t = (abs(Md1-Md2))/(sqrt((sigma_1**2/n)+(sigma_2**2/n)))\n",
    "    else:\n",
    "        t = (abs(Md1-Md2))/sqrt((((n-1)*sigma_1**2+(n-2)*sigma_2**2)/(n+n-2))*((1/n)+(1/n)))\n",
    "    \n",
    "    df = n-1\n",
    "    \n",
    "    c = pd.read_excel(\"Таблиця критичних значень для критерію Стьюдента.xlsx\").iloc[df-1, 1]\n",
    "    znach = \"\"\n",
    "    if t > c:\n",
    "        print(\"Not significant: \"+ str(t)+\"(дано)\" + \" > \"+ str(c)+\"(табличне)\")\n",
    "        znach = \"not significant\"\n",
    "    else:\n",
    "        print(\"Significant: \"+ str(t)+\"(дано)\" + \" < \"+ str(c)+\"(табличне)\")\n",
    "        znach = \"significant\"\n",
    "    \n",
    "    ans = [t, df, znach]\n",
    "    return ans"
   ]
  },
  {
   "cell_type": "markdown",
   "metadata": {},
   "source": [
    "<h3>5. Перевірити розбіжність на між групами на даних з п. 1.</h3>"
   ]
  },
  {
   "cell_type": "code",
   "execution_count": 8,
   "metadata": {},
   "outputs": [
    {
     "name": "stdout",
     "output_type": "stream",
     "text": [
      "Significant: 2.1241830065359473(дано) < 4.28(табличне)\n",
      "------------------------------\n",
      "Significant: 0.4808564910677262(дано) < 2.447(табличне)\n"
     ]
    },
    {
     "data": {
      "text/plain": [
       "[0.4808564910677262, 6, 'significant']"
      ]
     },
     "execution_count": 8,
     "metadata": {},
     "output_type": "execute_result"
    }
   ],
   "source": [
    "liven(data)\n",
    "print(\"------------------------------\")\n",
    "t_crit(data)"
   ]
  }
 ],
 "metadata": {
  "kernelspec": {
   "display_name": "Python 3",
   "language": "python",
   "name": "python3"
  },
  "language_info": {
   "codemirror_mode": {
    "name": "ipython",
    "version": 3
   },
   "file_extension": ".py",
   "mimetype": "text/x-python",
   "name": "python",
   "nbconvert_exporter": "python",
   "pygments_lexer": "ipython3",
   "version": "3.6.8"
  }
 },
 "nbformat": 4,
 "nbformat_minor": 4
}
