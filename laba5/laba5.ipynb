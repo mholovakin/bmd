{
 "cells": [
  {
   "cell_type": "markdown",
   "metadata": {},
   "source": [
    "<h2 style=\"color: green\">1. Обрати реальні дані з kaggle або сгенерувати випадкові дані, що містять розподіл деякої ознаки в двох групах.<h2>"
   ]
  },
  {
   "cell_type": "code",
   "execution_count": 98,
   "metadata": {},
   "outputs": [],
   "source": [
    "import pandas as pd\n",
    "import os\n",
    "import matplotlib.pyplot as plt\n",
    "import numpy as np\n",
    "%matplotlib inline"
   ]
  },
  {
   "cell_type": "code",
   "execution_count": 99,
   "metadata": {},
   "outputs": [
    {
     "data": {
      "text/html": [
       "<div>\n",
       "<style scoped>\n",
       "    .dataframe tbody tr th:only-of-type {\n",
       "        vertical-align: middle;\n",
       "    }\n",
       "\n",
       "    .dataframe tbody tr th {\n",
       "        vertical-align: top;\n",
       "    }\n",
       "\n",
       "    .dataframe thead th {\n",
       "        text-align: right;\n",
       "    }\n",
       "</style>\n",
       "<table border=\"1\" class=\"dataframe\">\n",
       "  <thead>\n",
       "    <tr style=\"text-align: right;\">\n",
       "      <th></th>\n",
       "      <th>Gradation</th>\n",
       "      <th>Group1</th>\n",
       "      <th>Group2</th>\n",
       "    </tr>\n",
       "  </thead>\n",
       "  <tbody>\n",
       "    <tr>\n",
       "      <th>0</th>\n",
       "      <td>Grad1</td>\n",
       "      <td>13</td>\n",
       "      <td>30</td>\n",
       "    </tr>\n",
       "    <tr>\n",
       "      <th>1</th>\n",
       "      <td>Grad2</td>\n",
       "      <td>8</td>\n",
       "      <td>45</td>\n",
       "    </tr>\n",
       "    <tr>\n",
       "      <th>2</th>\n",
       "      <td>Grad3</td>\n",
       "      <td>26</td>\n",
       "      <td>59</td>\n",
       "    </tr>\n",
       "    <tr>\n",
       "      <th>3</th>\n",
       "      <td>Grad4</td>\n",
       "      <td>6</td>\n",
       "      <td>12</td>\n",
       "    </tr>\n",
       "    <tr>\n",
       "      <th>4</th>\n",
       "      <td>Grad5</td>\n",
       "      <td>32</td>\n",
       "      <td>3</td>\n",
       "    </tr>\n",
       "  </tbody>\n",
       "</table>\n",
       "</div>"
      ],
      "text/plain": [
       "  Gradation  Group1  Group2\n",
       "0     Grad1      13      30\n",
       "1     Grad2       8      45\n",
       "2     Grad3      26      59\n",
       "3     Grad4       6      12\n",
       "4     Grad5      32       3"
      ]
     },
     "execution_count": 99,
     "metadata": {},
     "output_type": "execute_result"
    }
   ],
   "source": [
    "data = pd.DataFrame({\n",
    "    \"Gradation\":[\"Grad1\", \"Grad2\", \"Grad3\", \"Grad4\", \"Grad5\"],\n",
    "    \"Group1\":[13, 8, 26, 6, 32],\n",
    "    \"Group2\":[30, 45, 59, 12, 3]\n",
    "})\n",
    "data"
   ]
  },
  {
   "cell_type": "markdown",
   "metadata": {},
   "source": [
    "<h2 style=\"color: green\">2. Побудувати графік, що відображає розподіл ознак в групах.</h2>"
   ]
  },
  {
   "cell_type": "code",
   "execution_count": 100,
   "metadata": {},
   "outputs": [
    {
     "data": {
      "image/png": "[encoded data removed]",
      "text/plain": [
       "<Figure size 432x288 with 2 Axes>"
      ]
     },
     "metadata": {
      "needs_background": "light"
     },
     "output_type": "display_data"
    }
   ],
   "source": [
    "plt.subplot(1,2,1)\n",
    "plt.plot(data[\"Group1\"],marker = 'o', color='g')\n",
    "plt.xlabel(\"Gradation\")\n",
    "plt.ylabel(\"Group 1\")\n",
    "\n",
    "plt.subplot(1,2,2)\n",
    "plt.plot(data[\"Group2\"],marker = 'o', color='g')\n",
    "plt.xlabel(\"Gradation\")\n",
    "plt.ylabel(\"Group 2\")\n",
    "\n",
    "plt.tight_layout()"
   ]
  },
  {
   "cell_type": "markdown",
   "metadata": {},
   "source": [
    "<h2 style=\"color: green\">3. Написати функції, що оцінює зв'язок між ознакою та групою за критерієм Пірсона. Функція має оцінювати розбіжність на двох рівнях - 0,001 та 0,05, в залежністі від параметру significant_level, що передається в неї. Врахувати у функції випадок, що сума частот ознаки у групах може бути відмінною.</h2>"
   ]
  },
  {
   "cell_type": "code",
   "execution_count": 101,
   "metadata": {},
   "outputs": [
    {
     "name": "stdout",
     "output_type": "stream",
     "text": [
      "Хі квадрат за даними:  965.9557788073689\n",
      "Число ступенів свободи:  4\n",
      "X^2 критичне:  13.3\n"
     ]
    },
    {
     "data": {
      "text/plain": [
       "'Розбіжність існує 965.9557788073689(Дано) > 13.3(критичне)'"
      ]
     },
     "execution_count": 101,
     "metadata": {},
     "output_type": "execute_result"
    }
   ],
   "source": [
    "def pirsonfunc(data, level):\n",
    "    data1 = sum(data.iloc[:,1])\n",
    "    data2 = sum(data.iloc[:,2])\n",
    "    if data1 == data2:\n",
    "        print(\"good\")\n",
    "    elif data1 < data2:\n",
    "        for i in range(data.shape[0]):\n",
    "            tempi = data.iloc[i,1]\n",
    "            temp = (tempi * 100)/data1\n",
    "            data.iloc[i,1] = (temp * data2)/100\n",
    "    else:\n",
    "        for i in range(data.shape[0]):\n",
    "            tempi = data.iloc[i,2]\n",
    "            temp = (tempi * 100)/data2\n",
    "            data.iloc[i,2] = (temp * data1)/100\n",
    "    \n",
    "    data['ni-ni^2'] = None\n",
    "    data['ni-ni^2'] = (data.iloc[:,1] - data.iloc[:,2])**2\n",
    "    data[\"(ni-ni)^2/ni^2\"] = None\n",
    "    data[\"(ni-ni)^2/ni^2\"] = data[\"ni-ni^2\"]/data.iloc[:,2]\n",
    "    xi = sum(data[\"(ni-ni)^2/ni^2\"])\n",
    "    print(\"Хі квадрат за даними: \", xi)\n",
    "    print(\"Число ступенів свободи: \", data.shape[0]-1)\n",
    "    c = pd.read_excel(\"Таблиця критичних значень для критерію Пірсона.xlsx\").iloc[data.shape[0]-1, 1 if(level == 0.01) else 2]\n",
    "    print(\"X^2 критичне: \", c)\n",
    "    return \"Розбіжність існує \" + str(xi) + \"(Дано) > \" + str(c) + \"(критичне)\" if (xi > c) else \"Розбіжності немає\" \n",
    "pirsonfunc(data, 0.01)"
   ]
  },
  {
   "cell_type": "markdown",
   "metadata": {},
   "source": [
    "<h3 style=\"color: green\">4. Перевірити розбіжність на між групами на даних з п. 1. В результаті сформувати таблицю спряженості наступного вигляду:<br/>\n",
    "Ознака\tГрупа 1\tГрупа 2<br/>\n",
    "Градація ознаки 1\t 𝑛11 \t 𝑛21<br/> \n",
    "Градація ознаки 2\t 𝑛12 \t 𝑛22 <br/>\n",
    "Градація ознаки 3\t 𝑛13 \t 𝑛23 <br/>\n",
    "Додати до таблиці стовбчики з відсотовим розподілом по градаціям всередині груп. Окремо вивести результати роботи критерію (чи є статистична розбіжність між групами).</h3>"
   ]
  },
  {
   "cell_type": "code",
   "execution_count": 102,
   "metadata": {},
   "outputs": [],
   "source": [
    "data_new = pd.DataFrame({\n",
    "    \"Gradation\":[\"Grad1\", \"Grad2\", \"Grad3\", \"Grad4\", \"Grad5\"],\n",
    "    \"Group1\":[13, 8, 26, 6, 32],\n",
    "    \"Group2\":[30, 45, 59, 12, 3],\n",
    "    \"PercentG1%\": None,\n",
    "    \"PercentG2%\": None\n",
    "})\n",
    "data_new[\"PercentG1%\"] = round(data_new[\"Group1\"]/sum(data_new[\"Group1\"])*100)\n",
    "data_new[\"PercentG2%\"] = round(data_new[\"Group2\"]/sum(data_new[\"Group2\"])*100)"
   ]
  },
  {
   "cell_type": "code",
   "execution_count": 103,
   "metadata": {},
   "outputs": [
    {
     "data": {
      "text/html": [
       "<div>\n",
       "<style scoped>\n",
       "    .dataframe tbody tr th:only-of-type {\n",
       "        vertical-align: middle;\n",
       "    }\n",
       "\n",
       "    .dataframe tbody tr th {\n",
       "        vertical-align: top;\n",
       "    }\n",
       "\n",
       "    .dataframe thead th {\n",
       "        text-align: right;\n",
       "    }\n",
       "</style>\n",
       "<table border=\"1\" class=\"dataframe\">\n",
       "  <thead>\n",
       "    <tr style=\"text-align: right;\">\n",
       "      <th></th>\n",
       "      <th>Gradation</th>\n",
       "      <th>Group1</th>\n",
       "      <th>Group2</th>\n",
       "      <th>PercentG1%</th>\n",
       "      <th>PercentG2%</th>\n",
       "    </tr>\n",
       "  </thead>\n",
       "  <tbody>\n",
       "    <tr>\n",
       "      <th>0</th>\n",
       "      <td>Grad1</td>\n",
       "      <td>13</td>\n",
       "      <td>30</td>\n",
       "      <td>15.0</td>\n",
       "      <td>20.0</td>\n",
       "    </tr>\n",
       "    <tr>\n",
       "      <th>1</th>\n",
       "      <td>Grad2</td>\n",
       "      <td>8</td>\n",
       "      <td>45</td>\n",
       "      <td>9.0</td>\n",
       "      <td>30.0</td>\n",
       "    </tr>\n",
       "    <tr>\n",
       "      <th>2</th>\n",
       "      <td>Grad3</td>\n",
       "      <td>26</td>\n",
       "      <td>59</td>\n",
       "      <td>31.0</td>\n",
       "      <td>40.0</td>\n",
       "    </tr>\n",
       "    <tr>\n",
       "      <th>3</th>\n",
       "      <td>Grad4</td>\n",
       "      <td>6</td>\n",
       "      <td>12</td>\n",
       "      <td>7.0</td>\n",
       "      <td>8.0</td>\n",
       "    </tr>\n",
       "    <tr>\n",
       "      <th>4</th>\n",
       "      <td>Grad5</td>\n",
       "      <td>32</td>\n",
       "      <td>3</td>\n",
       "      <td>38.0</td>\n",
       "      <td>2.0</td>\n",
       "    </tr>\n",
       "  </tbody>\n",
       "</table>\n",
       "</div>"
      ],
      "text/plain": [
       "  Gradation  Group1  Group2  PercentG1%  PercentG2%\n",
       "0     Grad1      13      30        15.0        20.0\n",
       "1     Grad2       8      45         9.0        30.0\n",
       "2     Grad3      26      59        31.0        40.0\n",
       "3     Grad4       6      12         7.0         8.0\n",
       "4     Grad5      32       3        38.0         2.0"
      ]
     },
     "execution_count": 103,
     "metadata": {},
     "output_type": "execute_result"
    }
   ],
   "source": [
    "data_new"
   ]
  }
 ],
 "metadata": {
  "kernelspec": {
   "display_name": "Python 3",
   "language": "python",
   "name": "python3"
  },
  "language_info": {
   "codemirror_mode": {
    "name": "ipython",
    "version": 3
   },
   "file_extension": ".py",
   "mimetype": "text/x-python",
   "name": "python",
   "nbconvert_exporter": "python",
   "pygments_lexer": "ipython3",
   "version": "3.6.8"
  }
 },
 "nbformat": 4,
 "nbformat_minor": 4
}
