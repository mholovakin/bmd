{
 "cells": [
  {
   "cell_type": "code",
   "execution_count": 247,
   "metadata": {},
   "outputs": [],
   "source": [
    "import seaborn as sns\n",
    "import pandas as pd"
   ]
  },
  {
   "cell_type": "code",
   "execution_count": 248,
   "metadata": {},
   "outputs": [
    {
     "data": {
      "text/html": [
       "<div>\n",
       "<style scoped>\n",
       "    .dataframe tbody tr th:only-of-type {\n",
       "        vertical-align: middle;\n",
       "    }\n",
       "\n",
       "    .dataframe tbody tr th {\n",
       "        vertical-align: top;\n",
       "    }\n",
       "\n",
       "    .dataframe thead th {\n",
       "        text-align: right;\n",
       "    }\n",
       "</style>\n",
       "<table border=\"1\" class=\"dataframe\">\n",
       "  <thead>\n",
       "    <tr style=\"text-align: right;\">\n",
       "      <th></th>\n",
       "      <th>n</th>\n",
       "      <th>Германия (км/ч)</th>\n",
       "      <th>Украина(км/ч)</th>\n",
       "      <th>Чехия(км/ч)</th>\n",
       "    </tr>\n",
       "  </thead>\n",
       "  <tbody>\n",
       "    <tr>\n",
       "      <th>0</th>\n",
       "      <td>1</td>\n",
       "      <td>180.30</td>\n",
       "      <td>83.42</td>\n",
       "      <td>160.00</td>\n",
       "    </tr>\n",
       "    <tr>\n",
       "      <th>1</th>\n",
       "      <td>2</td>\n",
       "      <td>230.00</td>\n",
       "      <td>110.01</td>\n",
       "      <td>143.20</td>\n",
       "    </tr>\n",
       "    <tr>\n",
       "      <th>2</th>\n",
       "      <td>3</td>\n",
       "      <td>130.67</td>\n",
       "      <td>68.00</td>\n",
       "      <td>120.70</td>\n",
       "    </tr>\n",
       "    <tr>\n",
       "      <th>3</th>\n",
       "      <td>4</td>\n",
       "      <td>299.99</td>\n",
       "      <td>130.00</td>\n",
       "      <td>155.32</td>\n",
       "    </tr>\n",
       "    <tr>\n",
       "      <th>4</th>\n",
       "      <td>5</td>\n",
       "      <td>164.21</td>\n",
       "      <td>51.00</td>\n",
       "      <td>112.30</td>\n",
       "    </tr>\n",
       "    <tr>\n",
       "      <th>5</th>\n",
       "      <td>6</td>\n",
       "      <td>283.29</td>\n",
       "      <td>90.00</td>\n",
       "      <td>93.20</td>\n",
       "    </tr>\n",
       "    <tr>\n",
       "      <th>6</th>\n",
       "      <td>7</td>\n",
       "      <td>110.12</td>\n",
       "      <td>96.22</td>\n",
       "      <td>132.20</td>\n",
       "    </tr>\n",
       "  </tbody>\n",
       "</table>\n",
       "</div>"
      ],
      "text/plain": [
       "   n  Германия (км/ч)  Украина(км/ч)  Чехия(км/ч)\n",
       "0  1           180.30          83.42       160.00\n",
       "1  2           230.00         110.01       143.20\n",
       "2  3           130.67          68.00       120.70\n",
       "3  4           299.99         130.00       155.32\n",
       "4  5           164.21          51.00       112.30\n",
       "5  6           283.29          90.00        93.20\n",
       "6  7           110.12          96.22       132.20"
      ]
     },
     "execution_count": 248,
     "metadata": {},
     "output_type": "execute_result"
    }
   ],
   "source": [
    "data = pd.DataFrame({\n",
    "    \"n\":[1,2,3,4,5,6,7],\n",
    "    \"Германия (км/ч)\":[180.30, 230.00, 130.67, 299.99, 164.21, 283.29, 110.12],\n",
    "    \"Украина(км/ч)\": [83.42, 110.01, 68.00, 130.00, 51.00, 90.00, 96.22],\n",
    "    \"Чехия(км/ч)\": [160.00, 143.2, 120.7, 155.32, 112.3, 93.2, 132.2]\n",
    "})\n",
    "n = data.shape[0]\n",
    "\n",
    "data"
   ]
  },
  {
   "cell_type": "markdown",
   "metadata": {},
   "source": [
    "<h3>1. Розрахувати та вивести у вигляді таблиці статистичні характиристики даних (середні та стандартні відхилення для кожної з груп).</h3>"
   ]
  },
  {
   "cell_type": "code",
   "execution_count": 249,
   "metadata": {},
   "outputs": [
    {
     "data": {
      "text/html": [
       "<div>\n",
       "<style scoped>\n",
       "    .dataframe tbody tr th:only-of-type {\n",
       "        vertical-align: middle;\n",
       "    }\n",
       "\n",
       "    .dataframe tbody tr th {\n",
       "        vertical-align: top;\n",
       "    }\n",
       "\n",
       "    .dataframe thead th {\n",
       "        text-align: right;\n",
       "    }\n",
       "</style>\n",
       "<table border=\"1\" class=\"dataframe\">\n",
       "  <thead>\n",
       "    <tr style=\"text-align: right;\">\n",
       "      <th></th>\n",
       "      <th>Название</th>\n",
       "      <th>Германия</th>\n",
       "      <th>Украина</th>\n",
       "      <th>Чехия</th>\n",
       "    </tr>\n",
       "  </thead>\n",
       "  <tbody>\n",
       "    <tr>\n",
       "      <th>0</th>\n",
       "      <td>Среднее отклонение</td>\n",
       "      <td>199.797143</td>\n",
       "      <td>89.807143</td>\n",
       "      <td>130.988571</td>\n",
       "    </tr>\n",
       "    <tr>\n",
       "      <th>1</th>\n",
       "      <td>Стандартное отклонение</td>\n",
       "      <td>73.472232</td>\n",
       "      <td>26.099568</td>\n",
       "      <td>24.039417</td>\n",
       "    </tr>\n",
       "  </tbody>\n",
       "</table>\n",
       "</div>"
      ],
      "text/plain": [
       "                 Название    Германия    Украина       Чехия\n",
       "0      Среднее отклонение  199.797143  89.807143  130.988571\n",
       "1  Стандартное отклонение   73.472232  26.099568   24.039417"
      ]
     },
     "execution_count": 249,
     "metadata": {},
     "output_type": "execute_result"
    }
   ],
   "source": [
    "data_data = pd.DataFrame({\n",
    "    \"Название\": [\"Среднее отклонение\",\"Стандартное отклонение\"],\n",
    "    \"Германия\":[sum(data.iloc[:,1]/n), data.iloc[:,1].std()],\n",
    "    \"Украина\":[sum(data.iloc[:,2]/n), data.iloc[:,2].std()],\n",
    "    \"Чехия\": [sum(data.iloc[:,3]/n), data.iloc[:,3].std()]\n",
    "})\n",
    "data_data"
   ]
  },
  {
   "cell_type": "markdown",
   "metadata": {},
   "source": [
    "<h3>2. Побудувати графік розкиду в групах.</h3>"
   ]
  },
  {
   "cell_type": "code",
   "execution_count": 250,
   "metadata": {},
   "outputs": [
    {
     "data": {
      "text/plain": [
       "<matplotlib.axes._subplots.AxesSubplot at 0x2635dfddbe0>"
      ]
     },
     "execution_count": 250,
     "metadata": {},
     "output_type": "execute_result"
    },
    {
     "data": {
      "image/png": "[encoded data removed]",
      "text/plain": [
       "<Figure size 432x288 with 1 Axes>"
      ]
     },
     "metadata": {
      "needs_background": "light"
     },
     "output_type": "display_data"
    }
   ],
   "source": [
    "sns.boxplot(data=data, palette='rainbow', orient='h')"
   ]
  },
  {
   "cell_type": "code",
   "execution_count": 251,
   "metadata": {},
   "outputs": [
    {
     "data": {
      "text/html": [
       "<div>\n",
       "<style scoped>\n",
       "    .dataframe tbody tr th:only-of-type {\n",
       "        vertical-align: middle;\n",
       "    }\n",
       "\n",
       "    .dataframe tbody tr th {\n",
       "        vertical-align: top;\n",
       "    }\n",
       "\n",
       "    .dataframe thead th {\n",
       "        text-align: right;\n",
       "    }\n",
       "</style>\n",
       "<table border=\"1\" class=\"dataframe\">\n",
       "  <thead>\n",
       "    <tr style=\"text-align: right;\">\n",
       "      <th></th>\n",
       "      <th>n</th>\n",
       "      <th>Германия (км/ч)</th>\n",
       "      <th>Украина(км/ч)</th>\n",
       "      <th>Чехия(км/ч)</th>\n",
       "    </tr>\n",
       "  </thead>\n",
       "  <tbody>\n",
       "    <tr>\n",
       "      <th>0</th>\n",
       "      <td>1</td>\n",
       "      <td>180.30</td>\n",
       "      <td>83.42</td>\n",
       "      <td>160.00</td>\n",
       "    </tr>\n",
       "    <tr>\n",
       "      <th>1</th>\n",
       "      <td>2</td>\n",
       "      <td>230.00</td>\n",
       "      <td>110.01</td>\n",
       "      <td>143.20</td>\n",
       "    </tr>\n",
       "    <tr>\n",
       "      <th>2</th>\n",
       "      <td>3</td>\n",
       "      <td>130.67</td>\n",
       "      <td>68.00</td>\n",
       "      <td>120.70</td>\n",
       "    </tr>\n",
       "    <tr>\n",
       "      <th>3</th>\n",
       "      <td>4</td>\n",
       "      <td>299.99</td>\n",
       "      <td>130.00</td>\n",
       "      <td>155.32</td>\n",
       "    </tr>\n",
       "    <tr>\n",
       "      <th>4</th>\n",
       "      <td>5</td>\n",
       "      <td>164.21</td>\n",
       "      <td>51.00</td>\n",
       "      <td>112.30</td>\n",
       "    </tr>\n",
       "    <tr>\n",
       "      <th>5</th>\n",
       "      <td>6</td>\n",
       "      <td>283.29</td>\n",
       "      <td>90.00</td>\n",
       "      <td>93.20</td>\n",
       "    </tr>\n",
       "    <tr>\n",
       "      <th>6</th>\n",
       "      <td>7</td>\n",
       "      <td>110.12</td>\n",
       "      <td>96.22</td>\n",
       "      <td>132.20</td>\n",
       "    </tr>\n",
       "    <tr>\n",
       "      <th>8</th>\n",
       "      <td>Сума:</td>\n",
       "      <td>1398.58</td>\n",
       "      <td>628.65</td>\n",
       "      <td>916.92</td>\n",
       "    </tr>\n",
       "    <tr>\n",
       "      <th>9</th>\n",
       "      <td>Середні:</td>\n",
       "      <td>199.80</td>\n",
       "      <td>89.81</td>\n",
       "      <td>130.99</td>\n",
       "    </tr>\n",
       "  </tbody>\n",
       "</table>\n",
       "</div>"
      ],
      "text/plain": [
       "           n  Германия (км/ч)  Украина(км/ч)  Чехия(км/ч)\n",
       "0          1           180.30          83.42       160.00\n",
       "1          2           230.00         110.01       143.20\n",
       "2          3           130.67          68.00       120.70\n",
       "3          4           299.99         130.00       155.32\n",
       "4          5           164.21          51.00       112.30\n",
       "5          6           283.29          90.00        93.20\n",
       "6          7           110.12          96.22       132.20\n",
       "8     Сума:           1398.58         628.65       916.92\n",
       "9  Середні:            199.80          89.81       130.99"
      ]
     },
     "execution_count": 251,
     "metadata": {},
     "output_type": "execute_result"
    }
   ],
   "source": [
    "\n",
    "data.loc[data.shape[0]+1] = [\"Сума: \",sum(data.iloc[:,1]), sum(data.iloc[:,2]), sum(data.iloc[:,3])]\n",
    "data.loc[data.shape[0]+1] = [\"Середні: \", round(data.iloc[n,1]/n, 2), round(data.iloc[n,2]/n, 2), round(data.iloc[n,3]/n, 2)]\n",
    "n = data.shape[0]\n",
    "data"
   ]
  },
  {
   "cell_type": "code",
   "execution_count": 252,
   "metadata": {},
   "outputs": [
    {
     "name": "stdout",
     "output_type": "stream",
     "text": [
      "Загальна сума:  2944.15\n"
     ]
    },
    {
     "data": {
      "text/html": [
       "<div>\n",
       "<style scoped>\n",
       "    .dataframe tbody tr th:only-of-type {\n",
       "        vertical-align: middle;\n",
       "    }\n",
       "\n",
       "    .dataframe tbody tr th {\n",
       "        vertical-align: top;\n",
       "    }\n",
       "\n",
       "    .dataframe thead th {\n",
       "        text-align: right;\n",
       "    }\n",
       "</style>\n",
       "<table border=\"1\" class=\"dataframe\">\n",
       "  <thead>\n",
       "    <tr style=\"text-align: right;\">\n",
       "      <th></th>\n",
       "      <th>n</th>\n",
       "      <th>Германия (км/ч)</th>\n",
       "      <th>Украина(км/ч)</th>\n",
       "      <th>Чехия(км/ч)</th>\n",
       "    </tr>\n",
       "  </thead>\n",
       "  <tbody>\n",
       "    <tr>\n",
       "      <th>0</th>\n",
       "      <td>1</td>\n",
       "      <td>180.30</td>\n",
       "      <td>83.42</td>\n",
       "      <td>160.00</td>\n",
       "    </tr>\n",
       "    <tr>\n",
       "      <th>1</th>\n",
       "      <td>2</td>\n",
       "      <td>230.00</td>\n",
       "      <td>110.01</td>\n",
       "      <td>143.20</td>\n",
       "    </tr>\n",
       "    <tr>\n",
       "      <th>2</th>\n",
       "      <td>3</td>\n",
       "      <td>130.67</td>\n",
       "      <td>68.00</td>\n",
       "      <td>120.70</td>\n",
       "    </tr>\n",
       "    <tr>\n",
       "      <th>3</th>\n",
       "      <td>4</td>\n",
       "      <td>299.99</td>\n",
       "      <td>130.00</td>\n",
       "      <td>155.32</td>\n",
       "    </tr>\n",
       "    <tr>\n",
       "      <th>4</th>\n",
       "      <td>5</td>\n",
       "      <td>164.21</td>\n",
       "      <td>51.00</td>\n",
       "      <td>112.30</td>\n",
       "    </tr>\n",
       "    <tr>\n",
       "      <th>5</th>\n",
       "      <td>6</td>\n",
       "      <td>283.29</td>\n",
       "      <td>90.00</td>\n",
       "      <td>93.20</td>\n",
       "    </tr>\n",
       "    <tr>\n",
       "      <th>6</th>\n",
       "      <td>7</td>\n",
       "      <td>110.12</td>\n",
       "      <td>96.22</td>\n",
       "      <td>132.20</td>\n",
       "    </tr>\n",
       "    <tr>\n",
       "      <th>8</th>\n",
       "      <td>Сума:</td>\n",
       "      <td>1398.58</td>\n",
       "      <td>628.65</td>\n",
       "      <td>916.92</td>\n",
       "    </tr>\n",
       "    <tr>\n",
       "      <th>9</th>\n",
       "      <td>Середні:</td>\n",
       "      <td>199.80</td>\n",
       "      <td>89.81</td>\n",
       "      <td>130.99</td>\n",
       "    </tr>\n",
       "  </tbody>\n",
       "</table>\n",
       "</div>"
      ],
      "text/plain": [
       "           n  Германия (км/ч)  Украина(км/ч)  Чехия(км/ч)\n",
       "0          1           180.30          83.42       160.00\n",
       "1          2           230.00         110.01       143.20\n",
       "2          3           130.67          68.00       120.70\n",
       "3          4           299.99         130.00       155.32\n",
       "4          5           164.21          51.00       112.30\n",
       "5          6           283.29          90.00        93.20\n",
       "6          7           110.12          96.22       132.20\n",
       "8     Сума:           1398.58         628.65       916.92\n",
       "9  Середні:            199.80          89.81       130.99"
      ]
     },
     "execution_count": 252,
     "metadata": {},
     "output_type": "execute_result"
    }
   ],
   "source": [
    "summa = sum(data.iloc[n-2, 1:])\n",
    "print(\"Загальна сума: \", summa)\n",
    "data"
   ]
  },
  {
   "cell_type": "markdown",
   "metadata": {},
   "source": [
    "<h3>3. Побудувати функцію, що реалізовує однофакторний дисперсійний аналіз.</h3>"
   ]
  },
  {
   "cell_type": "code",
   "execution_count": 259,
   "metadata": {},
   "outputs": [],
   "source": [
    "def dispers(data, n):    \n",
    "    first_sum = data.iloc[n-2,1]\n",
    "    second_sum = data.iloc[n-2,2]\n",
    "    third_sum = data.iloc[n-2, 3]\n",
    "    Tc2 = first_sum**2 + second_sum**2 + third_sum**2\n",
    "    c = data.shape[1]-1\n",
    "    n = data.shape[0]-2\n",
    "    N = n*c\n",
    "    sum2 = sum(data.iloc[n, 1:])**2\n",
    "    constanta = sum2/N\n",
    "    xi2 = 0\n",
    "    for i in range(0, n):\n",
    "        xi2 += data.iloc[i, 1]**2\n",
    "    for i in range(0, n):\n",
    "        xi2 += data.iloc[i, 2]**2\n",
    "    for i in range(0, n):\n",
    "        xi2 += data.iloc[i, 3]**2\n",
    "    \n",
    "    SSfact = Tc2/n - constanta\n",
    "    print(\"SSфактичне:\", SSfact)\n",
    "    SSzag = xi2 - sum2/N\n",
    "    print(\"SSзагальне:\", SSzag)\n",
    "    SSvip = SSzag - SSfact\n",
    "    print(\"SSвипадкове:\", SSvip)\n",
    "    \n",
    "    dfact = c - 1\n",
    "    print(\"\\ndфактичне:\", dfact)\n",
    "    dzag = N - 1\n",
    "    print(\"dзагальне:\", dzag)\n",
    "    dvip = dzag - dfact\n",
    "    print(\"dвипадкове:\", dvip)\n",
    "    \n",
    "    MSfact = SSfact/dfact\n",
    "    print(\"\\nMSфактичне:\", MSfact)\n",
    "    MSvip = SSvip/dvip\n",
    "    print(\"MSвипадкове:\", MSvip)\n",
    "    \n",
    "    Femp = MSfact/MSvip\n",
    "    print(\"\\nFемпіричне\", Femp)\n",
    "    Fcrit = pd.read_excel(\"Таблиця критичних значень для критерію Фішера.xlsx\").iloc[dzag-2, dfact]\n",
    "    if (Fcrit >= Femp):\n",
    "        print(\"Рівність середніх підтверджена\", Fcrit, \">\", Femp)\n",
    "    else:\n",
    "        print(\"Рівність середніх не підтверджена\", Fcrit, \"<\", Femp)\n",
    "    \n",
    "    data_end = pd.DataFrame({\n",
    "        \"Назва\":[\"Фактичне\", \"Випадкове\", \"Загальне\"],\n",
    "        \"SS\":[SSfact, SSvip, SSzag],\n",
    "        \"d\":[dfact, dvip, dzag],\n",
    "        \"MS\":[MSfact, MSvip, None]\n",
    "    })\n",
    "    return data_end"
   ]
  },
  {
   "cell_type": "markdown",
   "metadata": {},
   "source": [
    "<h3>4.Вивести результати розрахунку кожного з етапів вказаних вище у вигляді таблиці.</h3>"
   ]
  },
  {
   "cell_type": "markdown",
   "metadata": {},
   "source": [
    "<h3>5. Перевірити результат роботи функції на реальних або сгенерованих даних. Зробити висновок</h3>"
   ]
  },
  {
   "cell_type": "code",
   "execution_count": 260,
   "metadata": {},
   "outputs": [
    {
     "name": "stdout",
     "output_type": "stream",
     "text": [
      "SSфактичне: 43232.76920952374\n",
      "SSзагальне: 83176.26878095232\n",
      "SSвипадкове: 39943.499571428576\n",
      "\n",
      "dфактичне: 2\n",
      "dзагальне: 20\n",
      "dвипадкове: 18\n",
      "\n",
      "MSфактичне: 21616.38460476187\n",
      "MSвипадкове: 2219.08330952381\n",
      "\n",
      "Fемпіричне 9.741132526205382\n",
      "Рівність середніх не підтверджена 3.5 < 9.741132526205382\n"
     ]
    },
    {
     "data": {
      "text/html": [
       "<div>\n",
       "<style scoped>\n",
       "    .dataframe tbody tr th:only-of-type {\n",
       "        vertical-align: middle;\n",
       "    }\n",
       "\n",
       "    .dataframe tbody tr th {\n",
       "        vertical-align: top;\n",
       "    }\n",
       "\n",
       "    .dataframe thead th {\n",
       "        text-align: right;\n",
       "    }\n",
       "</style>\n",
       "<table border=\"1\" class=\"dataframe\">\n",
       "  <thead>\n",
       "    <tr style=\"text-align: right;\">\n",
       "      <th></th>\n",
       "      <th>Назва</th>\n",
       "      <th>SS</th>\n",
       "      <th>d</th>\n",
       "      <th>MS</th>\n",
       "    </tr>\n",
       "  </thead>\n",
       "  <tbody>\n",
       "    <tr>\n",
       "      <th>0</th>\n",
       "      <td>Фактичне</td>\n",
       "      <td>43232.769210</td>\n",
       "      <td>2</td>\n",
       "      <td>21616.384605</td>\n",
       "    </tr>\n",
       "    <tr>\n",
       "      <th>1</th>\n",
       "      <td>Випадкове</td>\n",
       "      <td>39943.499571</td>\n",
       "      <td>18</td>\n",
       "      <td>2219.083310</td>\n",
       "    </tr>\n",
       "    <tr>\n",
       "      <th>2</th>\n",
       "      <td>Загальне</td>\n",
       "      <td>83176.268781</td>\n",
       "      <td>20</td>\n",
       "      <td>NaN</td>\n",
       "    </tr>\n",
       "  </tbody>\n",
       "</table>\n",
       "</div>"
      ],
      "text/plain": [
       "       Назва            SS   d            MS\n",
       "0   Фактичне  43232.769210   2  21616.384605\n",
       "1  Випадкове  39943.499571  18   2219.083310\n",
       "2   Загальне  83176.268781  20           NaN"
      ]
     },
     "execution_count": 260,
     "metadata": {},
     "output_type": "execute_result"
    }
   ],
   "source": [
    "dispers(data, n)"
   ]
  },
  {
   "cell_type": "code",
   "execution_count": null,
   "metadata": {},
   "outputs": [],
   "source": []
  }
 ],
 "metadata": {
  "kernelspec": {
   "display_name": "Python 3",
   "language": "python",
   "name": "python3"
  },
  "language_info": {
   "codemirror_mode": {
    "name": "ipython",
    "version": 3
   },
   "file_extension": ".py",
   "mimetype": "text/x-python",
   "name": "python",
   "nbconvert_exporter": "python",
   "pygments_lexer": "ipython3",
   "version": "3.6.8"
  }
 },
 "nbformat": 4,
 "nbformat_minor": 4
}
