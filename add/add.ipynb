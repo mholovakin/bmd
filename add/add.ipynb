{
 "cells": [
  {
   "cell_type": "markdown",
   "metadata": {},
   "source": [
    "<h1>Критерій Краскела-Уолліса</h1>\n",
    "\n",
    "\n",
    "##Теоретичні відомості"
   ]
  },
  {
   "cell_type": "markdown",
   "metadata": {},
   "source": [
    "<b>Критерій Краскела-Уолліса</b> - це непараметрична альтернатива одновимірному (міжгруповому) дисперсійному аналізу. Він використовується для порівняння трьох або більше вибірок, і перевіряє нульові гіпотези, згідно з якими різні вибірки були взяті з одного і того ж розподілу, або з розподілів з однаковими медіанами."
   ]
  },
  {
   "cell_type": "markdown",
   "metadata": {},
   "source": [
    "Цей непараметрический критерій - розширення двохвибіркового критерію Вілкоксона рангових сум. При нульовій гіпотезі відсутності відмінностей в розподілах між групами суми рангів у кожній з k груп повинні бути порівнянні після врахування будь-яких відмінностей в розмірі вибірки."
   ]
  },
  {
   "cell_type": "markdown",
   "metadata": {},
   "source": [
    "<h3>Область застосування</h3>"
   ]
  },
  {
   "cell_type": "markdown",
   "metadata": {},
   "source": [
    "Тест визначає, чи відрізняються медіани двох або більше груп. Як і більшість статистичних тестів, ви обчислюєте статистику тесту і порівнюєте її з точкою відключення розподілу. Тестова статистика, що використовується в цьому тесті, називається H statistic."
   ]
  },
  {
   "cell_type": "markdown",
   "metadata": {},
   "source": [
    "<h3>Вимоги до даних</h3>"
   ]
  },
  {
   "cell_type": "markdown",
   "metadata": {},
   "source": [
    "Ваші дані повинні відповідати наступним вимогам:\n",
    "<ul>\n",
    "    <li>Одна незалежна змінна з двома або більше рівнями (незалежні групи). Тест частіше використовується, коли у вас три або більше рівні.</li>\n",
    "    <li>Усі групи повинні мати однакові форми розподілу.</li>\n",
    "    <li>Усі вибірки прості, об'єднана вибірка незалежна.</li>\n",
    "</ul>"
   ]
  },
  {
   "cell_type": "markdown",
   "metadata": {},
   "source": [
    "<h3>Гіпотеза</h3>"
   ]
  },
  {
   "cell_type": "markdown",
   "metadata": {},
   "source": [
    "Гіпотеза, яка перевіряєть даним тестом може бути виражена наступним чином:<br/>\n",
    "<i>H0</i>: кожна група має однаковий розподіл величин в популяції.<br/>\n",
    "<i>H1</i>: кожна група не має однаковий розподіл величин в популяції."
   ]
  },
  {
   "cell_type": "markdown",
   "metadata": {},
   "source": [
    "<h3>Алгоритм розрахунку</h3>"
   ]
  },
  {
   "cell_type": "markdown",
   "metadata": {},
   "source": [
    "<h6>1.Спочатку необхідно об'єднати дані з вибірок в одну вибірку</h6>\n",
    "<table>\n",
    "    <tr><th>Група 1</th><th>Група 2</th><th>Група 3</th></tr>\n",
    "    <tr><td>$x_{11}$</td><td>$x_{21}$</td><td>$x_{31}$</td></tr>\n",
    "    <tr><td>$x_{12}$</td><td>$x_{22}$</td><td>$x_{32}$</td></tr>\n",
    "    <tr><td>$x_{13}$</td><td>$x_{23}$</td><td>$x_{33}$</td></tr>\n",
    "</table>\n",
    "<h6>2.Відсортувати у порядку зростання:<br/></h6>\n",
    "Об'єднані та відсортовані дані:\n",
    "<table>\n",
    "    <tr><th>Вибірка</th></tr>\n",
    "    <tr><td>$x_{32}$</td></tr>\n",
    "    <tr><td>$x_{13}$</td></tr>\n",
    "    <tr><td>$x_{22}$</td></tr>\n",
    "    <tr><td>$x_{33}$</td></tr>\n",
    "    <tr><td>$x_{23}$</td></tr>\n",
    "    <tr><td>$x_{21}$</td></tr>\n",
    "    <tr><td>$x_{31}$</td></tr>\n",
    "    <tr><td>$x_{11}$</td></tr>\n",
    "    <tr><td>$x_{12}$</td></tr>\n",
    "</table>"
   ]
  },
  {
   "cell_type": "markdown",
   "metadata": {},
   "source": [
    "<h6>3.Далі необхідно призначити ранги для відсортованих точок даних. Дати прив’язаним значенням середню оцінку.</h6>\n",
    "<table>\n",
    "    <tr><th>Вибірка</th><th>Ранг</th></tr>\n",
    "    <tr><td>$x_{32}$</td><td>1</td></tr>\n",
    "    <tr><td>$x_{13}$</td><td>2</td></tr>\n",
    "    <tr><td>$x_{22}$</td><td>3</td></tr>\n",
    "    <tr><td>$x_{33}$</td><td>4</td></tr>\n",
    "    <tr><td>$x_{23}$</td><td>5</td></tr>\n",
    "    <tr><td>$x_{21}$</td><td>6</td></tr>\n",
    "    <tr><td>$x_{31}$</td><td>7</td></tr>\n",
    "    <tr><td>$x_{11}$</td><td>8</td></tr>\n",
    "    <tr><td>$x_{12}$</td><td>9</td></tr>\n",
    "</table>"
   ]
  },
  {
   "cell_type": "markdown",
   "metadata": {},
   "source": [
    "<h6>4.Знайти суми рангів кожної групи:<br/></h6>\n",
    "   $ Група 1: 2 + 8 + 9 = 19$<br/>\n",
    "    $Група 2: 3 + 5 + 6 = 14$<br/>\n",
    "   $ Група 3: 1 + 4 + 7 = 12$"
   ]
  },
  {
   "cell_type": "markdown",
   "metadata": {},
   "source": [
    "<h6>5.Розрахувати критерій Н<br/></h6>\n",
    "Розрахунок відбувається за формулою:\n",
    "$$H = \\frac{12}{n(n+1)}\\sum\\frac{R^2_i}{n_i}-3(n+1)$$"
   ]
  },
  {
   "cell_type": "markdown",
   "metadata": {},
   "source": [
    "де $n$ - загальна кількість спостережень<br/>\n",
    "$n_i$ - кількість спостережень у кожній з вибірок<br/>\n",
    "$R_i$ - сума рангів<br/>\n",
    "$$H = \\left[\\frac{12}{9(9+1)}\\left[\\frac{19^2}{3}+\\frac{14^2}{3}+\\frac{12^2}{3}\\right]-3(9+1)\\right]=1.1555$$"
   ]
  },
  {
   "cell_type": "markdown",
   "metadata": {},
   "source": [
    "<h6>6.Знайти критичне значення критерія Краскела-Уолліса з таблиці критичних значень"
   ]
  },
  {
   "cell_type": "markdown",
   "metadata": {},
   "source": [
    "Так як у нас 3 групи, тому скористаємось таблицею для 3-х груп.<br/>\n",
    "Розмір нашої таблиці 9.<br/>\n",
    "У таблиці значенню розміру 9 відповідає критичне значення $5.831$.<br/>\n",
    "$1.1555 < 5.831$ - нульова гіпотеза приймається"
   ]
  },
  {
   "cell_type": "markdown",
   "metadata": {},
   "source": [
    "<h1>Реалізація</h1>"
   ]
  },
  {
   "cell_type": "markdown",
   "metadata": {},
   "source": [
    "Нехай маємо фабрику, яка виготовляє взуття. Взуттєва компанія хоче знати, чи мають три групи робітників різні зарплати:<br/>\n",
    "<table>\n",
    "        <tr><th>Жінки</th> <td>$30000, 41000, 54000, 66000, 78000$</td></tr>\n",
    "       <tr> <th>Чоловіки</th> <td>$45000, 55000, 60000, 70000, 72000$</td></tr>\n",
    "        <tr><th>Меншини</th> <td>$18000, 30000, 34000, 40000, 44000$</td></tr>\n",
    "</table>"
   ]
  },
  {
   "cell_type": "markdown",
   "metadata": {},
   "source": [
    "<h3>1. Необхідно об'єднати дані з вибірок в одну вибірку</h3>"
   ]
  },
  {
   "cell_type": "code",
   "execution_count": 43,
   "metadata": {},
   "outputs": [],
   "source": [
    "import pandas as pd\n",
    "import numpy as np\n",
    "import seaborn as sns"
   ]
  },
  {
   "cell_type": "code",
   "execution_count": 44,
   "metadata": {},
   "outputs": [
    {
     "data": {
      "text/html": [
       "<div>\n",
       "<style scoped>\n",
       "    .dataframe tbody tr th:only-of-type {\n",
       "        vertical-align: middle;\n",
       "    }\n",
       "\n",
       "    .dataframe tbody tr th {\n",
       "        vertical-align: top;\n",
       "    }\n",
       "\n",
       "    .dataframe thead th {\n",
       "        text-align: right;\n",
       "    }\n",
       "</style>\n",
       "<table border=\"1\" class=\"dataframe\">\n",
       "  <thead>\n",
       "    <tr style=\"text-align: right;\">\n",
       "      <th></th>\n",
       "      <th>Groups</th>\n",
       "      <th>Salary</th>\n",
       "    </tr>\n",
       "  </thead>\n",
       "  <tbody>\n",
       "    <tr>\n",
       "      <th>0</th>\n",
       "      <td>Women</td>\n",
       "      <td>30000</td>\n",
       "    </tr>\n",
       "    <tr>\n",
       "      <th>1</th>\n",
       "      <td>Women</td>\n",
       "      <td>41000</td>\n",
       "    </tr>\n",
       "    <tr>\n",
       "      <th>2</th>\n",
       "      <td>Women</td>\n",
       "      <td>54000</td>\n",
       "    </tr>\n",
       "    <tr>\n",
       "      <th>3</th>\n",
       "      <td>Women</td>\n",
       "      <td>66000</td>\n",
       "    </tr>\n",
       "    <tr>\n",
       "      <th>4</th>\n",
       "      <td>Women</td>\n",
       "      <td>78000</td>\n",
       "    </tr>\n",
       "    <tr>\n",
       "      <th>5</th>\n",
       "      <td>Men</td>\n",
       "      <td>45000</td>\n",
       "    </tr>\n",
       "    <tr>\n",
       "      <th>6</th>\n",
       "      <td>Men</td>\n",
       "      <td>55000</td>\n",
       "    </tr>\n",
       "    <tr>\n",
       "      <th>7</th>\n",
       "      <td>Men</td>\n",
       "      <td>60000</td>\n",
       "    </tr>\n",
       "    <tr>\n",
       "      <th>8</th>\n",
       "      <td>Men</td>\n",
       "      <td>70000</td>\n",
       "    </tr>\n",
       "    <tr>\n",
       "      <th>9</th>\n",
       "      <td>Men</td>\n",
       "      <td>72000</td>\n",
       "    </tr>\n",
       "    <tr>\n",
       "      <th>10</th>\n",
       "      <td>Minorities</td>\n",
       "      <td>18000</td>\n",
       "    </tr>\n",
       "    <tr>\n",
       "      <th>11</th>\n",
       "      <td>Minorities</td>\n",
       "      <td>30000</td>\n",
       "    </tr>\n",
       "    <tr>\n",
       "      <th>12</th>\n",
       "      <td>Minorities</td>\n",
       "      <td>34000</td>\n",
       "    </tr>\n",
       "    <tr>\n",
       "      <th>13</th>\n",
       "      <td>Minorities</td>\n",
       "      <td>40000</td>\n",
       "    </tr>\n",
       "    <tr>\n",
       "      <th>14</th>\n",
       "      <td>Minorities</td>\n",
       "      <td>44000</td>\n",
       "    </tr>\n",
       "  </tbody>\n",
       "</table>\n",
       "</div>"
      ],
      "text/plain": [
       "        Groups  Salary\n",
       "0        Women   30000\n",
       "1        Women   41000\n",
       "2        Women   54000\n",
       "3        Women   66000\n",
       "4        Women   78000\n",
       "5          Men   45000\n",
       "6          Men   55000\n",
       "7          Men   60000\n",
       "8          Men   70000\n",
       "9          Men   72000\n",
       "10  Minorities   18000\n",
       "11  Minorities   30000\n",
       "12  Minorities   34000\n",
       "13  Minorities   40000\n",
       "14  Minorities   44000"
      ]
     },
     "execution_count": 44,
     "metadata": {},
     "output_type": "execute_result"
    }
   ],
   "source": [
    "df = pd.DataFrame({\n",
    "    \"Groups\":[\"Women\"]*5 + [\"Men\"]*5 + [\"Minorities\"]*5,\n",
    "    \"Salary\":[30000, 41000, 54000, 66000, 78000, 45000, 55000, 60000, 70000, 72000, 18000, 30000, 34000, 40000, 44000]\n",
    "})\n",
    "n = df.shape[0]\n",
    "df"
   ]
  },
  {
   "cell_type": "markdown",
   "metadata": {},
   "source": [
    "<h3>2. Відсортувати у порядку зростання<h3>"
   ]
  },
  {
   "cell_type": "code",
   "execution_count": 45,
   "metadata": {},
   "outputs": [
    {
     "data": {
      "text/html": [
       "<div>\n",
       "<style scoped>\n",
       "    .dataframe tbody tr th:only-of-type {\n",
       "        vertical-align: middle;\n",
       "    }\n",
       "\n",
       "    .dataframe tbody tr th {\n",
       "        vertical-align: top;\n",
       "    }\n",
       "\n",
       "    .dataframe thead th {\n",
       "        text-align: right;\n",
       "    }\n",
       "</style>\n",
       "<table border=\"1\" class=\"dataframe\">\n",
       "  <thead>\n",
       "    <tr style=\"text-align: right;\">\n",
       "      <th></th>\n",
       "      <th>Groups</th>\n",
       "      <th>Salary</th>\n",
       "    </tr>\n",
       "  </thead>\n",
       "  <tbody>\n",
       "    <tr>\n",
       "      <th>10</th>\n",
       "      <td>Minorities</td>\n",
       "      <td>18000</td>\n",
       "    </tr>\n",
       "    <tr>\n",
       "      <th>0</th>\n",
       "      <td>Women</td>\n",
       "      <td>30000</td>\n",
       "    </tr>\n",
       "    <tr>\n",
       "      <th>11</th>\n",
       "      <td>Minorities</td>\n",
       "      <td>30000</td>\n",
       "    </tr>\n",
       "    <tr>\n",
       "      <th>12</th>\n",
       "      <td>Minorities</td>\n",
       "      <td>34000</td>\n",
       "    </tr>\n",
       "    <tr>\n",
       "      <th>13</th>\n",
       "      <td>Minorities</td>\n",
       "      <td>40000</td>\n",
       "    </tr>\n",
       "    <tr>\n",
       "      <th>1</th>\n",
       "      <td>Women</td>\n",
       "      <td>41000</td>\n",
       "    </tr>\n",
       "    <tr>\n",
       "      <th>14</th>\n",
       "      <td>Minorities</td>\n",
       "      <td>44000</td>\n",
       "    </tr>\n",
       "    <tr>\n",
       "      <th>5</th>\n",
       "      <td>Men</td>\n",
       "      <td>45000</td>\n",
       "    </tr>\n",
       "    <tr>\n",
       "      <th>2</th>\n",
       "      <td>Women</td>\n",
       "      <td>54000</td>\n",
       "    </tr>\n",
       "    <tr>\n",
       "      <th>6</th>\n",
       "      <td>Men</td>\n",
       "      <td>55000</td>\n",
       "    </tr>\n",
       "    <tr>\n",
       "      <th>7</th>\n",
       "      <td>Men</td>\n",
       "      <td>60000</td>\n",
       "    </tr>\n",
       "    <tr>\n",
       "      <th>3</th>\n",
       "      <td>Women</td>\n",
       "      <td>66000</td>\n",
       "    </tr>\n",
       "    <tr>\n",
       "      <th>8</th>\n",
       "      <td>Men</td>\n",
       "      <td>70000</td>\n",
       "    </tr>\n",
       "    <tr>\n",
       "      <th>9</th>\n",
       "      <td>Men</td>\n",
       "      <td>72000</td>\n",
       "    </tr>\n",
       "    <tr>\n",
       "      <th>4</th>\n",
       "      <td>Women</td>\n",
       "      <td>78000</td>\n",
       "    </tr>\n",
       "  </tbody>\n",
       "</table>\n",
       "</div>"
      ],
      "text/plain": [
       "        Groups  Salary\n",
       "10  Minorities   18000\n",
       "0        Women   30000\n",
       "11  Minorities   30000\n",
       "12  Minorities   34000\n",
       "13  Minorities   40000\n",
       "1        Women   41000\n",
       "14  Minorities   44000\n",
       "5          Men   45000\n",
       "2        Women   54000\n",
       "6          Men   55000\n",
       "7          Men   60000\n",
       "3        Women   66000\n",
       "8          Men   70000\n",
       "9          Men   72000\n",
       "4        Women   78000"
      ]
     },
     "execution_count": 45,
     "metadata": {},
     "output_type": "execute_result"
    }
   ],
   "source": [
    "df = df.sort_values(by=[\"Salary\"])\n",
    "df"
   ]
  },
  {
   "cell_type": "markdown",
   "metadata": {},
   "source": [
    "<h3>3. Необхідно призначити рангів для відсортованих точок даних. Дати прив’язаним значенням середню оцінку.</h3>"
   ]
  },
  {
   "cell_type": "code",
   "execution_count": 46,
   "metadata": {},
   "outputs": [
    {
     "data": {
      "text/html": [
       "<div>\n",
       "<style scoped>\n",
       "    .dataframe tbody tr th:only-of-type {\n",
       "        vertical-align: middle;\n",
       "    }\n",
       "\n",
       "    .dataframe tbody tr th {\n",
       "        vertical-align: top;\n",
       "    }\n",
       "\n",
       "    .dataframe thead th {\n",
       "        text-align: right;\n",
       "    }\n",
       "</style>\n",
       "<table border=\"1\" class=\"dataframe\">\n",
       "  <thead>\n",
       "    <tr style=\"text-align: right;\">\n",
       "      <th></th>\n",
       "      <th>Groups</th>\n",
       "      <th>Salary</th>\n",
       "      <th>Ranks</th>\n",
       "    </tr>\n",
       "  </thead>\n",
       "  <tbody>\n",
       "    <tr>\n",
       "      <th>10</th>\n",
       "      <td>Minorities</td>\n",
       "      <td>18000</td>\n",
       "      <td>1</td>\n",
       "    </tr>\n",
       "    <tr>\n",
       "      <th>0</th>\n",
       "      <td>Women</td>\n",
       "      <td>30000</td>\n",
       "      <td>2</td>\n",
       "    </tr>\n",
       "    <tr>\n",
       "      <th>11</th>\n",
       "      <td>Minorities</td>\n",
       "      <td>30000</td>\n",
       "      <td>3</td>\n",
       "    </tr>\n",
       "    <tr>\n",
       "      <th>12</th>\n",
       "      <td>Minorities</td>\n",
       "      <td>34000</td>\n",
       "      <td>4</td>\n",
       "    </tr>\n",
       "    <tr>\n",
       "      <th>13</th>\n",
       "      <td>Minorities</td>\n",
       "      <td>40000</td>\n",
       "      <td>5</td>\n",
       "    </tr>\n",
       "    <tr>\n",
       "      <th>1</th>\n",
       "      <td>Women</td>\n",
       "      <td>41000</td>\n",
       "      <td>6</td>\n",
       "    </tr>\n",
       "    <tr>\n",
       "      <th>14</th>\n",
       "      <td>Minorities</td>\n",
       "      <td>44000</td>\n",
       "      <td>7</td>\n",
       "    </tr>\n",
       "    <tr>\n",
       "      <th>5</th>\n",
       "      <td>Men</td>\n",
       "      <td>45000</td>\n",
       "      <td>8</td>\n",
       "    </tr>\n",
       "    <tr>\n",
       "      <th>2</th>\n",
       "      <td>Women</td>\n",
       "      <td>54000</td>\n",
       "      <td>9</td>\n",
       "    </tr>\n",
       "    <tr>\n",
       "      <th>6</th>\n",
       "      <td>Men</td>\n",
       "      <td>55000</td>\n",
       "      <td>10</td>\n",
       "    </tr>\n",
       "    <tr>\n",
       "      <th>7</th>\n",
       "      <td>Men</td>\n",
       "      <td>60000</td>\n",
       "      <td>11</td>\n",
       "    </tr>\n",
       "    <tr>\n",
       "      <th>3</th>\n",
       "      <td>Women</td>\n",
       "      <td>66000</td>\n",
       "      <td>12</td>\n",
       "    </tr>\n",
       "    <tr>\n",
       "      <th>8</th>\n",
       "      <td>Men</td>\n",
       "      <td>70000</td>\n",
       "      <td>13</td>\n",
       "    </tr>\n",
       "    <tr>\n",
       "      <th>9</th>\n",
       "      <td>Men</td>\n",
       "      <td>72000</td>\n",
       "      <td>14</td>\n",
       "    </tr>\n",
       "    <tr>\n",
       "      <th>4</th>\n",
       "      <td>Women</td>\n",
       "      <td>78000</td>\n",
       "      <td>15</td>\n",
       "    </tr>\n",
       "  </tbody>\n",
       "</table>\n",
       "</div>"
      ],
      "text/plain": [
       "        Groups  Salary  Ranks\n",
       "10  Minorities   18000      1\n",
       "0        Women   30000      2\n",
       "11  Minorities   30000      3\n",
       "12  Minorities   34000      4\n",
       "13  Minorities   40000      5\n",
       "1        Women   41000      6\n",
       "14  Minorities   44000      7\n",
       "5          Men   45000      8\n",
       "2        Women   54000      9\n",
       "6          Men   55000     10\n",
       "7          Men   60000     11\n",
       "3        Women   66000     12\n",
       "8          Men   70000     13\n",
       "9          Men   72000     14\n",
       "4        Women   78000     15"
      ]
     },
     "execution_count": 46,
     "metadata": {},
     "output_type": "execute_result"
    }
   ],
   "source": [
    "df[\"Ranks\"]=[i for i in range(1,n+1)]\n",
    "df"
   ]
  },
  {
   "cell_type": "markdown",
   "metadata": {},
   "source": [
    "<h3>4. Знайти суми рангів кожної групи</h3>"
   ]
  },
  {
   "cell_type": "markdown",
   "metadata": {},
   "source": [
    "<h3>5. Розрахувати критерій Н</h3>"
   ]
  },
  {
   "cell_type": "code",
   "execution_count": 64,
   "metadata": {},
   "outputs": [],
   "source": [
    "def KWtest(df):\n",
    "    group1 = 0\n",
    "    group2 = 0\n",
    "    group3 = 0\n",
    "    for i in range(n):\n",
    "        if df.iloc[i,0] == df[\"Groups\"].unique()[0]:\n",
    "            group1+=df.iloc[i,2]\n",
    "        if df.iloc[i,0] == df[\"Groups\"].unique()[1]:\n",
    "            group2+=df.iloc[i,2]\n",
    "        if df.iloc[i,0] == df[\"Groups\"].unique()[2]:\n",
    "            group3+=df.iloc[i,2]\n",
    "            \n",
    "    amount = df[\"Groups\"].value_counts()[0]\n",
    "    table = len(df[\"Groups\"].unique())\n",
    "    H = 12/(n*(n+1))*(group1**2/amount + group2**2/amount + group3**2/amount) - 3*(n+1)\n",
    "    c = pd.read_excel(str(table) + \"groups.xlsx\").iloc[n, 1] if n <= 25 else pd.read_excel(str(table) + \"groups.xlsx\").iloc[26, 1]\n",
    "    print(\"Критичне значення:\", c)\n",
    "    print(\"Дано:\", H)\n",
    "    print(\"Розбіжність існує \" + str(H) + \"(Дано) > \" + str(c) + \"(критичне). Нульова гіпотеза відкидається.\" if (H > c) else \"Розбіжності немає. Нульова гіпотеза приймається\")\n",
    "    print()\n",
    "    return [H, c]"
   ]
  },
  {
   "cell_type": "markdown",
   "metadata": {},
   "source": [
    "<h3>6. Знайти критичне значення квадратного Xi-квадрата зі ступенем свободи c-1</h3>"
   ]
  },
  {
   "cell_type": "code",
   "execution_count": 65,
   "metadata": {},
   "outputs": [
    {
     "name": "stdout",
     "output_type": "stream",
     "text": [
      "Критичне значення: 5.902\n",
      "Дано: 6.720000000000006\n",
      "Розбіжність існує 6.720000000000006(Дано) > 5.902(критичне). Нульова гіпотеза відкидається.\n",
      "\n"
     ]
    },
    {
     "data": {
      "text/plain": [
       "[6.720000000000006, 5.902]"
      ]
     },
     "execution_count": 65,
     "metadata": {},
     "output_type": "execute_result"
    }
   ],
   "source": [
    "KWtest(df)"
   ]
  },
  {
   "cell_type": "markdown",
   "metadata": {},
   "source": [
    "<h3>Висновок</h3>"
   ]
  },
  {
   "cell_type": "markdown",
   "metadata": {},
   "source": [
    "<b>Було отримано результат, який зі статистичною значимістю 0.05 дозволяє стверджувати про нерівність груп.</b><br/><br/>\n",
    "Під час порівняння заробітної плати на взуттєвому виробництві у трьох групах, медіани у цих групах відрізняються, тому можна зробити висновок, що заробітна плата у групах відрізняється."
   ]
  }
 ],
 "metadata": {
  "kernelspec": {
   "display_name": "Python 3",
   "language": "python",
   "name": "python3"
  },
  "language_info": {
   "codemirror_mode": {
    "name": "ipython",
    "version": 3
   },
   "file_extension": ".py",
   "mimetype": "text/x-python",
   "name": "python",
   "nbconvert_exporter": "python",
   "pygments_lexer": "ipython3",
   "version": "3.6.8"
  }
 },
 "nbformat": 4,
 "nbformat_minor": 4
}
