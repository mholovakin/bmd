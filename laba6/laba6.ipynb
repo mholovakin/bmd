{
 "cells": [
  {
   "cell_type": "markdown",
   "metadata": {},
   "source": [
    "<h3>1. Обрати реальні дані з kaggle або сгенерувати випадкові дані. Дані мають відповідати вимогам викладеним вище.</h3>"
   ]
  },
  {
   "cell_type": "code",
   "execution_count": 1,
   "metadata": {},
   "outputs": [],
   "source": [
    "import pandas as pd\n",
    "import matplotlib.pyplot as plt\n",
    "import seaborn as sns\n",
    "%matplotlib inline\n",
    "from math import sqrt"
   ]
  },
  {
   "cell_type": "code",
   "execution_count": 2,
   "metadata": {},
   "outputs": [
    {
     "data": {
      "text/html": [
       "<div>\n",
       "<style scoped>\n",
       "    .dataframe tbody tr th:only-of-type {\n",
       "        vertical-align: middle;\n",
       "    }\n",
       "\n",
       "    .dataframe tbody tr th {\n",
       "        vertical-align: top;\n",
       "    }\n",
       "\n",
       "    .dataframe thead th {\n",
       "        text-align: right;\n",
       "    }\n",
       "</style>\n",
       "<table border=\"1\" class=\"dataframe\">\n",
       "  <thead>\n",
       "    <tr style=\"text-align: right;\">\n",
       "      <th></th>\n",
       "      <th>Math</th>\n",
       "      <th>English</th>\n",
       "    </tr>\n",
       "  </thead>\n",
       "  <tbody>\n",
       "    <tr>\n",
       "      <th>0</th>\n",
       "      <td>169.8</td>\n",
       "      <td>173.3</td>\n",
       "    </tr>\n",
       "    <tr>\n",
       "      <th>1</th>\n",
       "      <td>190.2</td>\n",
       "      <td>198.1</td>\n",
       "    </tr>\n",
       "    <tr>\n",
       "      <th>2</th>\n",
       "      <td>135.4</td>\n",
       "      <td>167.8</td>\n",
       "    </tr>\n",
       "    <tr>\n",
       "      <th>3</th>\n",
       "      <td>173.5</td>\n",
       "      <td>160.2</td>\n",
       "    </tr>\n",
       "    <tr>\n",
       "      <th>4</th>\n",
       "      <td>182.6</td>\n",
       "      <td>180.9</td>\n",
       "    </tr>\n",
       "  </tbody>\n",
       "</table>\n",
       "</div>"
      ],
      "text/plain": [
       "    Math  English\n",
       "0  169.8    173.3\n",
       "1  190.2    198.1\n",
       "2  135.4    167.8\n",
       "3  173.5    160.2\n",
       "4  182.6    180.9"
      ]
     },
     "execution_count": 2,
     "metadata": {},
     "output_type": "execute_result"
    }
   ],
   "source": [
    "data = pd.DataFrame({\n",
    "    \"Math\":[169.8, 190.2, 135.4, 173.5, 182.6],\n",
    "    \"English\":[173.3, 198.1, 167.8, 160.2, 180.9]\n",
    "})\n",
    "\n",
    "n = data.shape[0]\n",
    "data"
   ]
  },
  {
   "cell_type": "markdown",
   "metadata": {},
   "source": [
    "<h3>2. Побудувати графік, що відображає розкид даних в групах.</h3>"
   ]
  },
  {
   "cell_type": "code",
   "execution_count": 3,
   "metadata": {},
   "outputs": [
    {
     "data": {
      "text/plain": [
       "<matplotlib.axes._subplots.AxesSubplot at 0x190712a9780>"
      ]
     },
     "execution_count": 3,
     "metadata": {},
     "output_type": "execute_result"
    },
    {
     "data": {
      "image/png": "[encoded data removed]",
      "text/plain": [
       "<Figure size 432x288 with 1 Axes>"
      ]
     },
     "metadata": {
      "needs_background": "light"
     },
     "output_type": "display_data"
    }
   ],
   "source": [
    "sns.boxplot(data=data, palette='rainbow')"
   ]
  },
  {
   "cell_type": "markdown",
   "metadata": {},
   "source": [
    "<h1>3. Написати функції:</h1>\n",
    "\n",
    "<h3>4. для оцінки зв'язку між групами за коефіцієнтом кореляції Пірсона. Функція має повертати значення коефіцієнту кореляції, значення ступеня свободи та результат оцінки значимості зв'зку (significant або not significant).</h3>"
   ]
  },
  {
   "cell_type": "code",
   "execution_count": 4,
   "metadata": {},
   "outputs": [],
   "source": [
    "def pirsonfunc(data):\n",
    "    r = 0\n",
    "    first = n*(sum(data.iloc[:,0]*data.iloc[:,1]))-(sum(data.iloc[:,0])*sum(data.iloc[:,1]))\n",
    "    second = sqrt((n*sum(data.iloc[:,0]**2)-sum(data.iloc[:,0])**2)*(n*sum(data.iloc[:,1]**2)-sum(data.iloc[:,1])**2))\n",
    "    \n",
    "    r = first/second\n",
    "    df = data.shape[0]-2\n",
    "    c = pd.read_excel(\"Таблиця критичних значень кореляційного аналізу.xlsx\").iloc[df-1, 1]\n",
    "    \n",
    "    print(\"Значення коефіцієнта кореляції: \", r)\n",
    "    print(\"Число ступенів свободи: \", df)\n",
    "    \n",
    "    znach = \"\"\n",
    "    \n",
    "    if r > c:\n",
    "        print(\"Significant: \" + str(r)+\"(дано)\" + \" > \"+ str(c)+\"(табличне)\")\n",
    "        znach = \"significant\"\n",
    "    else:\n",
    "        print(\"Not significant: \"+ str(r)+\"(дано)\" + \" < \"+ str(c)+\"(табличне)\")\n",
    "        znach = \"not significant\"\n",
    "    \n",
    "    ans = [r, df, znach]\n",
    "    return ans"
   ]
  },
  {
   "cell_type": "markdown",
   "metadata": {},
   "source": [
    "<h3>5. для визначення відмінності між групами за критерієм Стьюдента. Функція має повертати значення критерію Стьюдента,значення ступеня свободи та результат оцінки значимості зв'зку (significant або not significant).</h3>"
   ]
  },
  {
   "cell_type": "code",
   "execution_count": 5,
   "metadata": {},
   "outputs": [],
   "source": [
    "def t_student(data):\n",
    "    data['Різниця(d)'] = None\n",
    "    data['Різниця(d)'] = (data.iloc[:,0] - data.iloc[:,1])\n",
    "    Md = sum(data.iloc[:,2])/n\n",
    "    sum_d = 0\n",
    "    for i in range(n):\n",
    "        sum_d += (data.iloc[i, 2] - Md)**2\n",
    "    sigmaD = sqrt(sum_d/n)\n",
    "    \n",
    "    t = (Md/sigmaD) * sqrt(n)\n",
    "    df = data.shape[0] - 1\n",
    "    c = pd.read_excel(\"Таблица критических значений для парного критерия.xlsx\").iloc[df-1, 1]\n",
    "    print(\"Значення t-критерію Стьюдента: \", t)\n",
    "    print(\"Число ступенів свободи: \", df)\n",
    "    \n",
    "    znach = \"\"\n",
    "    \n",
    "    if t > c:\n",
    "        print(\"Significant: \" + str(t)+\"(дано)\" + \" > \"+ str(c)+\"(табличне)\")\n",
    "        znach = \"significant\"\n",
    "    else:\n",
    "        print(\"Not significant: \"+ str(t)+\"(дано)\" + \" < \"+ str(c)+\"(табличне)\")\n",
    "        znach = \"not significant\"\n",
    "    \n",
    "    ans = [t, df, znach]\n",
    "    return ans"
   ]
  },
  {
   "cell_type": "markdown",
   "metadata": {},
   "source": [
    "<h3>6. Перевірити розбіжність на між групами на даних з п. 1.</h3>"
   ]
  },
  {
   "cell_type": "code",
   "execution_count": 8,
   "metadata": {},
   "outputs": [
    {
     "name": "stdout",
     "output_type": "stream",
     "text": [
      "Значення коефіцієнта кореляції:  0.6046951391415942\n",
      "Число ступенів свободи:  3\n",
      "Not significant: 0.6046951391415942(дано) < 0.8783(табличне)\n",
      "\n",
      "-----------------------------------------------\n",
      "\n",
      "Значення t-критерію Стьюдента:  -0.8536145924000886\n",
      "Число ступенів свободи:  4\n",
      "Not significant: -0.8536145924000886(дано) < 2.776(табличне)\n"
     ]
    },
    {
     "data": {
      "text/plain": [
       "[-0.8536145924000886, 4, 'not significant']"
      ]
     },
     "execution_count": 8,
     "metadata": {},
     "output_type": "execute_result"
    }
   ],
   "source": [
    "pirsonfunc(data)\n",
    "print(\"\\n-----------------------------------------------\\n\")\n",
    "t_student(data)"
   ]
  },
  {
   "cell_type": "markdown",
   "metadata": {},
   "source": [
    "<h3>7. Сформувати висновок про взаємозв'язок між групами та про їх розбіжність.</h3>"
   ]
  },
  {
   "cell_type": "markdown",
   "metadata": {},
   "source": [
    "Висновок: Статистичної залежності між двома групами немає. Різниця між середніми у групах за показником, який досліджується, дорівнює нулю і це свідчить про рівність даних."
   ]
  }
 ],
 "metadata": {
  "kernelspec": {
   "display_name": "Python 3",
   "language": "python",
   "name": "python3"
  },
  "language_info": {
   "codemirror_mode": {
    "name": "ipython",
    "version": 3
   },
   "file_extension": ".py",
   "mimetype": "text/x-python",
   "name": "python",
   "nbconvert_exporter": "python",
   "pygments_lexer": "ipython3",
   "version": "3.6.8"
  }
 },
 "nbformat": 4,
 "nbformat_minor": 4
}
